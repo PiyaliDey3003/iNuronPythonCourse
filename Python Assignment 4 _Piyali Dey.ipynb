{
 "cells": [
  {
   "cell_type": "markdown",
   "metadata": {},
   "source": [
    "#### 1.1 Write a Python Program(with class concepts) to find the area of the triangle using the below\n",
    "#### formula.\n",
    "#### area = (s*(s-a)*(s-b)*(s-c)) ** 0.5\n",
    "#### Function to take the length of the sides of triangle from user should be defined in the parent\n",
    "#### class and function to calculate the area should be defined in subclass."
   ]
  },
  {
   "cell_type": "code",
   "execution_count": 37,
   "metadata": {},
   "outputs": [
    {
     "name": "stdout",
     "output_type": "stream",
     "text": [
      "a = 2\n",
      "b = 4\n",
      "c = 5\n",
      "area is: 3.7416573867739413\n"
     ]
    }
   ],
   "source": [
    "class sides:\n",
    "    def __init__(self, a, b, c):\n",
    "        self.a = float(input(\"a = \"))\n",
    "        self.b = float(input(\"b = \"))\n",
    "        self.c = float(input(\"c = \"))\n",
    "        \n",
    "\n",
    "class triangle(sides):\n",
    "    def __init__(self, a, b, c):\n",
    "        super().__init__(a, b, c)\n",
    "\n",
    "    def area_triangle(self):\n",
    "        s = (self.a + self.b + self.c) / 2\n",
    "        return  int((s * (s - self.a) * (s - self.b) * (s - self.c))) ** 0.5\n",
    "\n",
    "t = triangle(a, b, c) \n",
    "print(\"area is:\" , t.area_triangle())"
   ]
  },
  {
   "cell_type": "markdown",
   "metadata": {},
   "source": [
    "#### 1.2 Write a function filter_long_words() that takes a list of words and an integer n and returns\n",
    "#### the list of words that are longer than n."
   ]
  },
  {
   "cell_type": "code",
   "execution_count": 52,
   "metadata": {},
   "outputs": [
    {
     "name": "stdout",
     "output_type": "stream",
     "text": [
      "['qweer', 'ytrew', 'lkjhh', 'asdd', 'zxcv']\n"
     ]
    }
   ],
   "source": [
    "l_in=[\"qwe\",\"qweer\",\"ytrew\",\"lkjhh\",\"asdd\",\"zxcv\",\"qw\",\"sdf\"]\n",
    "def filter_long_words(l,n):\n",
    "    return list((i for i in l if len(i) >n))\n",
    "\n",
    "l=filter_long_words(l_in,3)\n",
    "print(l)"
   ]
  },
  {
   "cell_type": "markdown",
   "metadata": {},
   "source": [
    "####  2.1 Write a Python program using function concept that maps list of words into a list of integers\n",
    "#### representing the lengths of the corresponding words.\n",
    "#### Hint: If a list [ ab,cde,erty] is passed on to the python function output should come as [2,3,4]\n",
    "#### Here 2,3 and 4 are the lengths of the words in the list."
   ]
  },
  {
   "cell_type": "code",
   "execution_count": 58,
   "metadata": {},
   "outputs": [
    {
     "name": "stdout",
     "output_type": "stream",
     "text": [
      "[3, 5, 5, 5, 4, 4, 2, 3]\n"
     ]
    }
   ],
   "source": [
    "l_in=[\"qwe\",\"qweer\",\"ytrew\",\"lkjhh\",\"asdd\",\"zxcv\",\"qw\",\"sdf\"]\n",
    "def cnt_words(l):\n",
    "    return list((len(i) for i in l))\n",
    "\n",
    "l=cnt_words(l_in)\n",
    "print(l)"
   ]
  },
  {
   "cell_type": "markdown",
   "metadata": {},
   "source": [
    "#### 2.2 Write a Python function which takes a character (i.e. a string of length 1) and returns True if\n",
    " #### it is a vowel, False otherwise."
   ]
  },
  {
   "cell_type": "code",
   "execution_count": 67,
   "metadata": {},
   "outputs": [
    {
     "name": "stdout",
     "output_type": "stream",
     "text": [
      " The char p is not a vowel\n",
      " The char A is vowel\n",
      " The char a is vowel\n"
     ]
    }
   ],
   "source": [
    "\n",
    "def check_vowel(c):\n",
    "    v=['a','e','i','o','u','A','E','I','O','U']\n",
    "    if v.count(c) == 1:\n",
    "        print(\" The char {} is vowel\".format(c))\n",
    "    else :\n",
    "        print(\" The char {} is not a vowel\".format(c))\n",
    "\n",
    "\n",
    "check_vowel('p')\n",
    "check_vowel('A')\n",
    "check_vowel('a')"
   ]
  },
  {
   "cell_type": "code",
   "execution_count": null,
   "metadata": {},
   "outputs": [],
   "source": []
  }
 ],
 "metadata": {
  "kernelspec": {
   "display_name": "Python 3",
   "language": "python",
   "name": "python3"
  },
  "language_info": {
   "codemirror_mode": {
    "name": "ipython",
    "version": 3
   },
   "file_extension": ".py",
   "mimetype": "text/x-python",
   "name": "python",
   "nbconvert_exporter": "python",
   "pygments_lexer": "ipython3",
   "version": "3.8.3"
  }
 },
 "nbformat": 4,
 "nbformat_minor": 4
}
